{
 "cells": [
  {
   "cell_type": "code",
   "execution_count": null,
   "metadata": {},
   "outputs": [],
   "source": [
    "import pinecone\n",
    "\n",
    "pinecone.init(api_key=\"YOUR_API_KEY\")\n",
    "pinecone.create_index(index_name=\"lecture_books_index\" ,dimension = 128)\n",
    "index = pinecone.Index(\"lecture_books_index\")\n"
   ]
  },
  {
   "cell_type": "code",
   "execution_count": null,
   "metadata": {},
   "outputs": [],
   "source": [
    "for text_content in processed_text_data:\n",
    "     pinecone.insert(index_name=\"lecture_books_index\", ids=[document_id], vectors=[vector])"
   ]
  }
 ],
 "metadata": {
  "language_info": {
   "name": "python"
  },
  "orig_nbformat": 4
 },
 "nbformat": 4,
 "nbformat_minor": 2
}
